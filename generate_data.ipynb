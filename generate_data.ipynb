{
 "cells": [
  {
   "cell_type": "code",
   "execution_count": 3,
   "id": "217e76c7",
   "metadata": {},
   "outputs": [],
   "source": [
    "import pandas as pd\n",
    "dataset = pd.read_csv('/Users/harshartwani/Documents/UTA/2nd_Sem/ML/Final_Project/HER_Deep_Learning/data/fer2013.csv')\n",
    "del dataset['Usage']"
   ]
  },
  {
   "cell_type": "code",
   "execution_count": 4,
   "id": "f59f2583",
   "metadata": {},
   "outputs": [
    {
     "data": {
      "text/html": [
       "<div>\n",
       "<style scoped>\n",
       "    .dataframe tbody tr th:only-of-type {\n",
       "        vertical-align: middle;\n",
       "    }\n",
       "\n",
       "    .dataframe tbody tr th {\n",
       "        vertical-align: top;\n",
       "    }\n",
       "\n",
       "    .dataframe thead th {\n",
       "        text-align: right;\n",
       "    }\n",
       "</style>\n",
       "<table border=\"1\" class=\"dataframe\">\n",
       "  <thead>\n",
       "    <tr style=\"text-align: right;\">\n",
       "      <th></th>\n",
       "      <th>emotion</th>\n",
       "      <th>pixels</th>\n",
       "    </tr>\n",
       "  </thead>\n",
       "  <tbody>\n",
       "    <tr>\n",
       "      <th>0</th>\n",
       "      <td>0</td>\n",
       "      <td>70 80 82 72 58 58 60 63 54 58 60 48 89 115 121...</td>\n",
       "    </tr>\n",
       "    <tr>\n",
       "      <th>1</th>\n",
       "      <td>0</td>\n",
       "      <td>151 150 147 155 148 133 111 140 170 174 182 15...</td>\n",
       "    </tr>\n",
       "    <tr>\n",
       "      <th>2</th>\n",
       "      <td>2</td>\n",
       "      <td>231 212 156 164 174 138 161 173 182 200 106 38...</td>\n",
       "    </tr>\n",
       "    <tr>\n",
       "      <th>3</th>\n",
       "      <td>4</td>\n",
       "      <td>24 32 36 30 32 23 19 20 30 41 21 22 32 34 21 1...</td>\n",
       "    </tr>\n",
       "    <tr>\n",
       "      <th>4</th>\n",
       "      <td>6</td>\n",
       "      <td>4 0 0 0 0 0 0 0 0 0 0 0 3 15 23 28 48 50 58 84...</td>\n",
       "    </tr>\n",
       "    <tr>\n",
       "      <th>...</th>\n",
       "      <td>...</td>\n",
       "      <td>...</td>\n",
       "    </tr>\n",
       "    <tr>\n",
       "      <th>35882</th>\n",
       "      <td>6</td>\n",
       "      <td>50 36 17 22 23 29 33 39 34 37 37 37 39 43 48 5...</td>\n",
       "    </tr>\n",
       "    <tr>\n",
       "      <th>35883</th>\n",
       "      <td>3</td>\n",
       "      <td>178 174 172 173 181 188 191 194 196 199 200 20...</td>\n",
       "    </tr>\n",
       "    <tr>\n",
       "      <th>35884</th>\n",
       "      <td>0</td>\n",
       "      <td>17 17 16 23 28 22 19 17 25 26 20 24 31 19 27 9...</td>\n",
       "    </tr>\n",
       "    <tr>\n",
       "      <th>35885</th>\n",
       "      <td>3</td>\n",
       "      <td>30 28 28 29 31 30 42 68 79 81 77 67 67 71 63 6...</td>\n",
       "    </tr>\n",
       "    <tr>\n",
       "      <th>35886</th>\n",
       "      <td>2</td>\n",
       "      <td>19 13 14 12 13 16 21 33 50 57 71 84 97 108 122...</td>\n",
       "    </tr>\n",
       "  </tbody>\n",
       "</table>\n",
       "<p>35887 rows × 2 columns</p>\n",
       "</div>"
      ],
      "text/plain": [
       "       emotion                                             pixels\n",
       "0            0  70 80 82 72 58 58 60 63 54 58 60 48 89 115 121...\n",
       "1            0  151 150 147 155 148 133 111 140 170 174 182 15...\n",
       "2            2  231 212 156 164 174 138 161 173 182 200 106 38...\n",
       "3            4  24 32 36 30 32 23 19 20 30 41 21 22 32 34 21 1...\n",
       "4            6  4 0 0 0 0 0 0 0 0 0 0 0 3 15 23 28 48 50 58 84...\n",
       "...        ...                                                ...\n",
       "35882        6  50 36 17 22 23 29 33 39 34 37 37 37 39 43 48 5...\n",
       "35883        3  178 174 172 173 181 188 191 194 196 199 200 20...\n",
       "35884        0  17 17 16 23 28 22 19 17 25 26 20 24 31 19 27 9...\n",
       "35885        3  30 28 28 29 31 30 42 68 79 81 77 67 67 71 63 6...\n",
       "35886        2  19 13 14 12 13 16 21 33 50 57 71 84 97 108 122...\n",
       "\n",
       "[35887 rows x 2 columns]"
      ]
     },
     "execution_count": 4,
     "metadata": {},
     "output_type": "execute_result"
    }
   ],
   "source": [
    "dataset"
   ]
  },
  {
   "cell_type": "code",
   "execution_count": 5,
   "id": "7a0bb4d4",
   "metadata": {},
   "outputs": [],
   "source": [
    "from sklearn.model_selection import train_test_split,cross_val_score\n",
    "train, test = train_test_split(dataset,test_size=0.10, random_state= 2002)"
   ]
  },
  {
   "cell_type": "code",
   "execution_count": 6,
   "id": "4f79e2d5",
   "metadata": {},
   "outputs": [
    {
     "data": {
      "text/html": [
       "<div>\n",
       "<style scoped>\n",
       "    .dataframe tbody tr th:only-of-type {\n",
       "        vertical-align: middle;\n",
       "    }\n",
       "\n",
       "    .dataframe tbody tr th {\n",
       "        vertical-align: top;\n",
       "    }\n",
       "\n",
       "    .dataframe thead th {\n",
       "        text-align: right;\n",
       "    }\n",
       "</style>\n",
       "<table border=\"1\" class=\"dataframe\">\n",
       "  <thead>\n",
       "    <tr style=\"text-align: right;\">\n",
       "      <th></th>\n",
       "      <th>emotion</th>\n",
       "      <th>pixels</th>\n",
       "    </tr>\n",
       "  </thead>\n",
       "  <tbody>\n",
       "    <tr>\n",
       "      <th>1126</th>\n",
       "      <td>6</td>\n",
       "      <td>165 156 143 133 94 69 83 54 53 26 16 25 30 34 ...</td>\n",
       "    </tr>\n",
       "    <tr>\n",
       "      <th>34184</th>\n",
       "      <td>0</td>\n",
       "      <td>27 29 88 32 3 33 93 148 149 155 164 171 182 18...</td>\n",
       "    </tr>\n",
       "    <tr>\n",
       "      <th>33806</th>\n",
       "      <td>2</td>\n",
       "      <td>93 113 85 28 20 24 32 40 64 90 109 124 146 179...</td>\n",
       "    </tr>\n",
       "    <tr>\n",
       "      <th>6746</th>\n",
       "      <td>5</td>\n",
       "      <td>102 119 145 159 179 187 190 191 200 196 198 20...</td>\n",
       "    </tr>\n",
       "    <tr>\n",
       "      <th>7506</th>\n",
       "      <td>3</td>\n",
       "      <td>128 134 141 146 152 161 175 184 192 196 203 20...</td>\n",
       "    </tr>\n",
       "    <tr>\n",
       "      <th>...</th>\n",
       "      <td>...</td>\n",
       "      <td>...</td>\n",
       "    </tr>\n",
       "    <tr>\n",
       "      <th>17841</th>\n",
       "      <td>4</td>\n",
       "      <td>110 104 134 54 7 21 23 19 21 24 26 29 28 27 45...</td>\n",
       "    </tr>\n",
       "    <tr>\n",
       "      <th>30089</th>\n",
       "      <td>3</td>\n",
       "      <td>175 175 172 171 125 75 48 25 27 51 65 55 63 73...</td>\n",
       "    </tr>\n",
       "    <tr>\n",
       "      <th>4753</th>\n",
       "      <td>3</td>\n",
       "      <td>122 144 205 211 211 211 209 212 218 110 12 10 ...</td>\n",
       "    </tr>\n",
       "    <tr>\n",
       "      <th>8273</th>\n",
       "      <td>0</td>\n",
       "      <td>114 150 171 182 184 184 183 183 183 183 182 18...</td>\n",
       "    </tr>\n",
       "    <tr>\n",
       "      <th>14574</th>\n",
       "      <td>4</td>\n",
       "      <td>141 149 150 164 171 175 180 176 172 178 181 17...</td>\n",
       "    </tr>\n",
       "  </tbody>\n",
       "</table>\n",
       "<p>3589 rows × 2 columns</p>\n",
       "</div>"
      ],
      "text/plain": [
       "       emotion                                             pixels\n",
       "1126         6  165 156 143 133 94 69 83 54 53 26 16 25 30 34 ...\n",
       "34184        0  27 29 88 32 3 33 93 148 149 155 164 171 182 18...\n",
       "33806        2  93 113 85 28 20 24 32 40 64 90 109 124 146 179...\n",
       "6746         5  102 119 145 159 179 187 190 191 200 196 198 20...\n",
       "7506         3  128 134 141 146 152 161 175 184 192 196 203 20...\n",
       "...        ...                                                ...\n",
       "17841        4  110 104 134 54 7 21 23 19 21 24 26 29 28 27 45...\n",
       "30089        3  175 175 172 171 125 75 48 25 27 51 65 55 63 73...\n",
       "4753         3  122 144 205 211 211 211 209 212 218 110 12 10 ...\n",
       "8273         0  114 150 171 182 184 184 183 183 183 183 182 18...\n",
       "14574        4  141 149 150 164 171 175 180 176 172 178 181 17...\n",
       "\n",
       "[3589 rows x 2 columns]"
      ]
     },
     "execution_count": 6,
     "metadata": {},
     "output_type": "execute_result"
    }
   ],
   "source": [
    "test"
   ]
  },
  {
   "cell_type": "code",
   "execution_count": 7,
   "id": "2940395d",
   "metadata": {},
   "outputs": [],
   "source": [
    "train.to_csv('/Users/harshartwani/Documents/UTA/2nd_Sem/ML/Final_Project/HER_Deep_Learning/data/train.csv',index= False)"
   ]
  },
  {
   "cell_type": "code",
   "execution_count": 8,
   "id": "b6969d7a",
   "metadata": {},
   "outputs": [],
   "source": [
    "test.to_csv('/Users/harshartwani/Documents/UTA/2nd_Sem/ML/Final_Project/HER_Deep_Learning/data/test.csv', index= False)"
   ]
  },
  {
   "cell_type": "code",
   "execution_count": 10,
   "id": "4a3bfa79",
   "metadata": {},
   "outputs": [
    {
     "name": "stdout",
     "output_type": "stream",
     "text": [
      "WE ARE HERE\n",
      "Done splitting the test file into validation & final test file\n"
     ]
    },
    {
     "name": "stderr",
     "output_type": "stream",
     "text": [
      "100%|██████████| 32298/32298 [00:13<00:00, 2364.43it/s]\n",
      "0it [00:00, ?it/s]\n"
     ]
    },
    {
     "name": "stdout",
     "output_type": "stream",
     "text": [
      "Done saving /Users/harshartwani/Documents/UTA/2nd_Sem/ML/Final_Project/HER_Deep_Learning/data/train data\n",
      "Done saving /Users/harshartwani/Documents/UTA/2nd_Sem/ML/Final_Project/HER_Deep_Learning/data/finaltest data\n"
     ]
    },
    {
     "name": "stderr",
     "output_type": "stream",
     "text": [
      "100%|██████████| 3589/3589 [00:01<00:00, 2600.92it/s]\n"
     ]
    },
    {
     "name": "stdout",
     "output_type": "stream",
     "text": [
      "Done saving /Users/harshartwani/Documents/UTA/2nd_Sem/ML/Final_Project/HER_Deep_Learning/data/val data\n"
     ]
    },
    {
     "name": "stderr",
     "output_type": "stream",
     "text": [
      "100%|██████████| 32298/32298 [00:13<00:00, 2376.32it/s]"
     ]
    },
    {
     "name": "stdout",
     "output_type": "stream",
     "text": [
      "Done saving /Users/harshartwani/Documents/UTA/2nd_Sem/ML/Final_Project/HER_Deep_Learning/data/train data\n"
     ]
    },
    {
     "name": "stderr",
     "output_type": "stream",
     "text": [
      "\n"
     ]
    }
   ],
   "source": [
    "from __future__ import print_function\n",
    "import pandas as pd\n",
    "import numpy as np\n",
    "from PIL import Image\n",
    "import os\n",
    "from tqdm import tqdm\n",
    "\n",
    "\n",
    "class Generate_data():\n",
    "    def __init__(self, datapath):\n",
    "        \"\"\"\n",
    "        Generate_data class\n",
    "        Two methods to be used\n",
    "        1-split_test\n",
    "        2-save_images\n",
    "        [Note] that you have to split the public and private from fer2013 file\n",
    "        \"\"\"\n",
    "        self.data_path = datapath\n",
    "\n",
    "    def split_test(self, test_filename = 'finaltest', val_filename= 'val'):\n",
    "        \"\"\"\n",
    "        Helper function to split the validation and test data from general test file as it contains (Public test, Private test)\n",
    "            params:-\n",
    "                data_path = path to the folder that contains the test data file\n",
    "        \"\"\"\n",
    "        print(\"WE ARE HERE\")\n",
    "        csv_path = self.data_path +\"/\"+ 'test.csv'\n",
    "        test = pd.read_csv(csv_path)\n",
    "        validation_data = pd.DataFrame(test.iloc[:3589,:])\n",
    "        test_data = pd.DataFrame(test.iloc[3589:,:])\n",
    "        test_data.to_csv(self.data_path+\"/\"+test_filename+\".csv\")\n",
    "        validation_data.to_csv(self.data_path+\"/\"+val_filename+\".csv\")\n",
    "        print(\"Done splitting the test file into validation & final test file\")\n",
    "\n",
    "    def str_to_image(self, str_img = ' '):\n",
    "        '''\n",
    "        Convert string pixels from the csv file into image object\n",
    "            params:- take an image string\n",
    "            return :- return PIL image object\n",
    "        '''\n",
    "        imgarray_str = str_img.split(' ')\n",
    "        imgarray = np.asarray(imgarray_str,dtype=np.uint8).reshape(48,48)\n",
    "        return Image.fromarray(imgarray)\n",
    "\n",
    "    def save_images(self, datatype='train'):\n",
    "        '''\n",
    "        save_images is a function responsible for saving images from data files e.g(train, test) in a desired folder\n",
    "            params:-\n",
    "            datatype= str e.g (train, val, finaltest)\n",
    "        '''\n",
    "        foldername= self.data_path+\"/\"+datatype\n",
    "        csvfile_path= self.data_path+\"/\"+datatype+'.csv'\n",
    "        if not os.path.exists(foldername):\n",
    "            os.mkdir(foldername)\n",
    "\n",
    "        data = pd.read_csv(csvfile_path)\n",
    "        images = data['pixels'] #dataframe to series pandas\n",
    "        numberofimages = images.shape[0]\n",
    "        for index in tqdm(range(numberofimages)):\n",
    "            img = self.str_to_image(images[index])\n",
    "            img.save(os.path.join(foldername,'{}{}.jpg'.format(datatype,index)),'JPEG')\n",
    "        print('Done saving {} data'.format((foldername)))\n",
    "datapath = \"/Users/harshartwani/Documents/UTA/2nd_Sem/ML/Final_Project/HER_Deep_Learning/data\"\n",
    "p = Generate_data(datapath)\n",
    "p.__init__(datapath)\n",
    "p.split_test()\n",
    "#p.str_to_image()\n",
    "p.save_images()\n",
    "p.save_images('finaltest')\n",
    "p.save_images('val')\n",
    "p.save_images('train')"
   ]
  },
  {
   "cell_type": "code",
   "execution_count": null,
   "id": "0f260994",
   "metadata": {},
   "outputs": [],
   "source": []
  }
 ],
 "metadata": {
  "kernelspec": {
   "display_name": "Python 3",
   "language": "python",
   "name": "python3"
  },
  "language_info": {
   "codemirror_mode": {
    "name": "ipython",
    "version": 3
   },
   "file_extension": ".py",
   "mimetype": "text/x-python",
   "name": "python",
   "nbconvert_exporter": "python",
   "pygments_lexer": "ipython3",
   "version": "3.8.8"
  }
 },
 "nbformat": 4,
 "nbformat_minor": 5
}
